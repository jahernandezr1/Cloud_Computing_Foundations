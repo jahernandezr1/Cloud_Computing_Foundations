{
  "nbformat": 4,
  "nbformat_minor": 0,
  "metadata": {
    "colab": {
      "name": "hello_world.ipynb",
      "provenance": []
    },
    "kernelspec": {
      "name": "python3",
      "display_name": "Python 3"
    },
    "language_info": {
      "name": "python"
    }
  },
  "cells": [
    {
      "cell_type": "markdown",
      "metadata": {
        "id": "QRRUqBZity13"
      },
      "source": [
        "# Hello world"
      ]
    },
    {
      "cell_type": "markdown",
      "metadata": {
        "id": "a-ZmAwS3uh9X"
      },
      "source": [
        "As *Noah Gift* said:\n",
        "\n",
        "> If a discussion involves code, the ability to **reproduce** the system significantly enhances the conversation."
      ]
    },
    {
      "cell_type": "code",
      "metadata": {
        "colab": {
          "base_uri": "https://localhost:8080/"
        },
        "id": "oO1ICUcotdsI",
        "outputId": "e047f684-608e-4a8e-b4ba-f595d104a854"
      },
      "source": [
        "print(\"hello world\")"
      ],
      "execution_count": 2,
      "outputs": [
        {
          "output_type": "stream",
          "text": [
            "hello world\n"
          ],
          "name": "stdout"
        }
      ]
    }
  ]
}